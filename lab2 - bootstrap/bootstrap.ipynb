{
  "nbformat": 4,
  "nbformat_minor": 0,
  "metadata": {
    "colab": {
      "name": "bootstrap.ipynb",
      "provenance": [],
      "include_colab_link": true
    },
    "kernelspec": {
      "display_name": "Python 3",
      "language": "python",
      "name": "python3"
    },
    "language_info": {
      "codemirror_mode": {
        "name": "ipython",
        "version": 3
      },
      "file_extension": ".py",
      "mimetype": "text/x-python",
      "name": "python",
      "nbconvert_exporter": "python",
      "pygments_lexer": "ipython3",
      "version": "3.7.6"
    },
    "pycharm": {
      "stem_cell": {
        "cell_type": "raw",
        "metadata": {
          "collapsed": false
        },
        "source": []
      }
    }
  },
  "cells": [
    {
      "cell_type": "markdown",
      "metadata": {
        "id": "view-in-github",
        "colab_type": "text"
      },
      "source": [
        "<a href=\"https://colab.research.google.com/github/A-ngelG/CE888/blob/main/lab2%20-%20bootstrap/bootstrap.ipynb\" target=\"_parent\"><img src=\"https://colab.research.google.com/assets/colab-badge.svg\" alt=\"Open In Colab\"/></a>"
      ]
    },
    {
      "cell_type": "markdown",
      "metadata": {
        "id": "nCi_99yMYIb1"
      },
      "source": [
        "In this notebook you'll create your own bootstrap function following the bootstrap algorithm (check the lecture notes!)"
      ]
    },
    {
      "cell_type": "code",
      "metadata": {
        "id": "LY5zujI2YC37",
        "pycharm": {
          "name": "#%%# Imports\n"
        }
      },
      "source": [
        "import matplotlib\n",
        "import pandas as pd\n",
        "import seaborn as sns\n",
        "import numpy as np\n",
        "\n"
      ],
      "execution_count": 128,
      "outputs": []
    },
    {
      "cell_type": "code",
      "metadata": {
        "id": "Eqkwj4SMY38t",
        "colab": {
          "base_uri": "https://localhost:8080/"
        },
        "outputId": "47f3ac7a-04c8-410c-ece4-716b2057f1aa"
      },
      "source": [
        "# Load the data\n",
        "df = pd.read_csv('https://raw.githubusercontent.com/albanda/CE888/master/lab2%20-%20bootstrap/customers.csv')\n",
        "data = df.values.T[1]\n",
        "print(df.head(5))\n",
        "print(data.shape[0])"
      ],
      "execution_count": 129,
      "outputs": [
        {
          "output_type": "stream",
          "name": "stdout",
          "text": [
            "   Day   Millons of pounds in sales\n",
            "0    1                          2.0\n",
            "1    2                          8.0\n",
            "2    3                         20.0\n",
            "3    4                         13.0\n",
            "4    5                          5.0\n",
            "14\n"
          ]
        }
      ]
    },
    {
      "cell_type": "code",
      "metadata": {
        "id": "Gxvc_bScYC4H",
        "pycharm": {
          "name": "#%%\n"
        }
      },
      "source": [
        "# Checking the notes from the lecture, create here your own bootstrap function:\n",
        "# 1. Sample from the input array x to create an array of samples of shape (n_bootstraps, sample_size)\n",
        "# Hint: Check the function random.choice() on Numpy\n",
        "# 2. Calculate and save the mean of the array (this is \"data_mean\" that is returned by the function)\n",
        "# 3. Calculate the mean from each bootstrap (i.e., row) and store it.\n",
        "# (This should be an array of n_bootstraps values)\n",
        "# 4. Calculate the lower and upper bounds for a 95% CI (hint: check the percentile function on Numpy)\n",
        "# 5. Return data_mean, and the lower and upper bounds of your interval\n",
        "def bootstrap_mean(x, sample_size, n_bootstraps):\n",
        "\tsample = np.random.choice(x,size = (n_bootstraps,sample_size) , replace = True)\n",
        "\tdata_mean = np.mean(sample)\n",
        "\tmean_row = sample.mean(axis=1)\t\n",
        "\tlower = np.percentile(mean_row,2.5)\n",
        "\tupper = np.percentile(mean_row,97.5)\n",
        "\t\n",
        "\treturn data_mean, lower, upper\n"
      ],
      "execution_count": 130,
      "outputs": []
    },
    {
      "cell_type": "code",
      "metadata": {
        "id": "AN7sEOcMYC4P",
        "pycharm": {
          "name": "#%%\n"
        },
        "colab": {
          "base_uri": "https://localhost:8080/",
          "height": 441
        },
        "outputId": "cd7f06fe-4256-42ce-9c42-468546f1e217"
      },
      "source": [
        "# Call your bootstrap function and plot the results\n",
        "\n",
        "boots = []\n",
        "for i in range(100, 50000, 1000):\n",
        "    boot = bootstrap_mean(data, data.shape[0], i)\n",
        "    boots.append([i, boot[0], \"mean\"])\n",
        "    boots.append([i, boot[1], \"lower\"])\n",
        "    boots.append([i, boot[2], \"upper\"])\n",
        "df_boot = pd.DataFrame(boots, columns=['Bootstrap Iterations', 'Mean', \"Value\"])\n",
        "sns_plot = sns.lmplot(df_boot.columns[0], df_boot.columns[1], data=df_boot, fit_reg=False, hue=\"Value\")\n",
        "\n",
        "sns_plot.axes[0, 0].set_ylim(0,)\n",
        "sns_plot.axes[0, 0].set_xlim(0, 50000)\n",
        "\n"
      ],
      "execution_count": 131,
      "outputs": [
        {
          "output_type": "stream",
          "name": "stderr",
          "text": [
            "/usr/local/lib/python3.7/dist-packages/seaborn/_decorators.py:43: FutureWarning: Pass the following variables as keyword args: x, y. From version 0.12, the only valid positional argument will be `data`, and passing other arguments without an explicit keyword will result in an error or misinterpretation.\n",
            "  FutureWarning\n"
          ]
        },
        {
          "output_type": "execute_result",
          "data": {
            "text/plain": [
              "(0.0, 50000.0)"
            ]
          },
          "metadata": {},
          "execution_count": 131
        },
        {
          "output_type": "display_data",
          "data": {
            "image/png": "[encoded data removed]",
            "text/plain": [
              "<Figure size 425.125x360 with 1 Axes>"
            ]
          },
          "metadata": {
            "needs_background": "light"
          }
        }
      ]
    },
    {
      "cell_type": "markdown",
      "metadata": {
        "id": "MjtP4e2_YC4V"
      },
      "source": [
        "\n",
        "Now, modify the bootstrap function you created above so that you can pass your desired confidence interval as a parameter.\n",
        "\n"
      ]
    },
    {
      "cell_type": "code",
      "metadata": {
        "id": "3K9j0FuGYhHs"
      },
      "source": [
        "def bootstrap_mean_ci(sample, sample_size, n_bootstraps, ci):\n",
        "\tsample = np.random.choice(sample,size = (n_bootstraps,sample_size) , replace = True)\n",
        "\tdata_mean = np.mean(sample)\n",
        "\tmean_row = sample.mean(axis=1)\t\n",
        "\tnp.sort(mean_row)\n",
        "\tlower = np.percentile(mean_row,(100-ci)/2)\n",
        "\tupper = np.percentile(mean_row,ci + (100- ci)/2)\n",
        "\t\n",
        "\treturn data_mean, lower, upper\n",
        "\n",
        "def bootstrap_std_ci(sample, sample_size, n_bootstraps, ci):\n",
        "\tsample = np.random.choice(sample,size = (n_bootstraps,sample_size) , replace = True)\n",
        "\tdata_std = np.std(sample)\n",
        "\tstd_row = sample.std(axis=1)\t\n",
        "\tnp.sort(std_row)\n",
        "\tlower = np.percentile(std_row,(100-ci)/2)\n",
        "\tupper = np.percentile(std_row,ci + (100-ci)/2)\n",
        "\t\n",
        "\treturn data_std, lower, upper"
      ],
      "execution_count": 132,
      "outputs": []
    },
    {
      "cell_type": "code",
      "source": [
        ""
      ],
      "metadata": {
        "id": "skFLhNiUV6rj"
      },
      "execution_count": 132,
      "outputs": []
    },
    {
      "cell_type": "code",
      "metadata": {
        "id": "uDnjq08GYl-C",
        "colab": {
          "base_uri": "https://localhost:8080/",
          "height": 442
        },
        "outputId": "67c5ca68-5777-489a-cc8c-70e60c7da511"
      },
      "source": [
        "boots = []\n",
        "for i in range(100, 50000, 1000):\n",
        "    boot = bootstrap_mean_ci(data, data.shape[0], i, 80)\n",
        "    boots.append([i, boot[0], \"mean\"])\n",
        "    boots.append([i, boot[1], \"lower\"])\n",
        "    boots.append([i, boot[2], \"upper\"])\n",
        "\n",
        "df_boot = pd.DataFrame(boots, columns=['Boostrap Iterations', 'Mean', \"Value\"])\n",
        "sns_plot = sns.lmplot(df_boot.columns[0], df_boot.columns[1], data=df_boot, fit_reg=False, hue=\"Value\")\n",
        "sns_plot.axes[0, 0].set_ylim(0,)\n",
        "sns_plot.axes[0, 0].set_xlim(0, 50000)\n",
        "\n",
        "#sns_plot.savefig(\"bootstrap_confidence_80.pdf\", bbox_inches='tight')\n"
      ],
      "execution_count": 133,
      "outputs": [
        {
          "output_type": "stream",
          "name": "stderr",
          "text": [
            "/usr/local/lib/python3.7/dist-packages/seaborn/_decorators.py:43: FutureWarning: Pass the following variables as keyword args: x, y. From version 0.12, the only valid positional argument will be `data`, and passing other arguments without an explicit keyword will result in an error or misinterpretation.\n",
            "  FutureWarning\n"
          ]
        },
        {
          "output_type": "execute_result",
          "data": {
            "text/plain": [
              "(0.0, 50000.0)"
            ]
          },
          "metadata": {},
          "execution_count": 133
        },
        {
          "output_type": "display_data",
          "data": {
            "image/png": "[encoded data removed]",
            "text/plain": [
              "<Figure size 425.125x360 with 1 Axes>"
            ]
          },
          "metadata": {
            "needs_background": "light"
          }
        }
      ]
    },
    {
      "cell_type": "code",
      "source": [
        "array = bootstrap_mean_ci(data,data.shape[0],10000,90)\n",
        "low = array[1]\n",
        "upp =  array[2]\n",
        "print('lower 90', low)\n",
        "print('upper 90 ',upp)\n",
        "array = bootstrap_mean_ci(data,data.shape[0],10000,95)\n",
        "low = array[1]\n",
        "upp =  array[2]\n",
        "print('lower 95', low)\n",
        "print('upper 95 ',upp)\n",
        "print(data.shape[0])\n",
        "\n",
        "array = bootstrap_std_ci(data,data.shape[0],10000,90)\n",
        "low = array[1]\n",
        "upp =  array[2]\n",
        "print('lower 90', low)\n",
        "print('upper 90 ',upp)\n",
        "\n",
        "array = bootstrap_std_ci(data,data.shape[0],10000,95)\n",
        "low = array[1]\n",
        "upp =  array[2]\n",
        "print('lower 95', low)\n",
        "print('upper 95 ',upp)"
      ],
      "metadata": {
        "colab": {
          "base_uri": "https://localhost:8080/"
        },
        "id": "ucs8ZpPcvw7W",
        "outputId": "bcfa86c4-bec0-4b42-f043-1331f307a0d8"
      },
      "execution_count": 134,
      "outputs": [
        {
          "output_type": "stream",
          "name": "stdout",
          "text": [
            "lower 90 6.785714285714286\n",
            "upper 90  11.785714285714286\n",
            "lower 95 6.428571428571429\n",
            "upper 95  12.357142857142858\n",
            "14\n",
            "lower 90 3.0438965360946453\n",
            "upper 90  7.136068202291448\n",
            "lower 95 2.6849685473833693\n",
            "upper 95  7.344675634609082\n"
          ]
        }
      ]
    },
    {
      "cell_type": "markdown",
      "metadata": {
        "id": "qjNgXW6wdd7r"
      },
      "source": [
        "# Vehicles dataset\n",
        "\n",
        "Now let's work on a different dataset, which is stored in the vehicles.csv file.\n"
      ]
    },
    {
      "cell_type": "code",
      "metadata": {
        "id": "avWv4ipFdpka",
        "colab": {
          "base_uri": "https://localhost:8080/"
        },
        "outputId": "3c51e632-e1f7-4175-dedf-d933c9e6a3f1"
      },
      "source": [
        "# Load and visualise the vehicles dataset\n",
        "# To load the dataset: https://neptune.ai/blog/google-colab-dealing-with-files (check section \"Load individual files directly from GitHub\")\n",
        "df = pd.read_csv('https://raw.githubusercontent.com/albanda/CE888/master/lab2%20-%20bootstrap/vehicles.csv')\n",
        "data = df.values.T[1]\n",
        "print(df.head(5))\n",
        "df1 = df.dropna()\n",
        "datac = df.values.T[0]\n",
        "datan = df1.values.T[1]\n",
        "\n",
        "# Note that the current and new fleets are in different columns and have different lengths, so bear this in mind when you're plotting.\n",
        "# You can create separate scatterplots for the two fleets, as you would with the histograms, \n",
        "# or plot them both in one plot (but not one against the other).\n",
        "# <---INSERT YOUR CODE HERE--->\n",
        "# Note: you can add more cells as needed to organise your code and your plots\n"
      ],
      "execution_count": 135,
      "outputs": [
        {
          "output_type": "stream",
          "name": "stdout",
          "text": [
            "   Current fleet  New Fleet\n",
            "0             18       24.0\n",
            "1             15       27.0\n",
            "2             18       27.0\n",
            "3             16       25.0\n",
            "4             17       31.0\n"
          ]
        }
      ]
    },
    {
      "cell_type": "markdown",
      "metadata": {
        "id": "B5d0tXDpIEj8"
      },
      "source": [
        "## Compare the two fleets\n",
        "\n",
        "The business analysts come up a comparison algorithm that requires the upper and lower bounds for the mean in order to say which fleet is better.\n",
        "1. Calculate the mean of both samples.\n",
        "2. Using the bootstrap function that you created:\n",
        "    - Construct the 95% CI of the mean of the current fleet.\n",
        "    - Construct the 95% CI of the mean of the new fleet.\n",
        "    - Are they comparable? (i.e., is one better than the other?) -- you can do this with a permutation test (check the lecture notes!)"
      ]
    },
    {
      "cell_type": "code",
      "metadata": {
        "id": "po4mp6zRHC0m"
      },
      "source": [
        "\n"
      ],
      "execution_count": 135,
      "outputs": []
    },
    {
      "cell_type": "code",
      "source": [
        "array = bootstrap_std_ci(datac,datac.shape[0],10000,95)\n",
        "low = array[1]\n",
        "upp =  array[2]\n",
        "print('lower 99', low)\n",
        "print('upper 99 ',upp)\n",
        "\n",
        "array = bootstrap_std_ci(datac,datac.shape[0],10000,73) \n",
        "low = array[1]\n",
        "upp =  array[2]\n",
        "print('lower 73', low)\n",
        "print('upper 73 ',upp)\n",
        "\n"
      ],
      "metadata": {
        "colab": {
          "base_uri": "https://localhost:8080/"
        },
        "id": "i7A0Kc2CyGjP",
        "outputId": "dbd53ec8-39ec-4821-b246-ccbb9f1167a4"
      },
      "execution_count": 136,
      "outputs": [
        {
          "output_type": "stream",
          "name": "stdout",
          "text": [
            "lower 99 5.822857897466993\n",
            "upper 99  6.942326878176613\n",
            "lower 73 6.067132646216368\n",
            "upper 73  6.703072535816548\n"
          ]
        }
      ]
    },
    {
      "cell_type": "code",
      "source": [
        "\n",
        "array = bootstrap_mean_ci(datan,datan.shape[0],10000,85)\n",
        "low = array[1]\n",
        "upp =  array[2]\n",
        "print('lower 85', low)\n",
        "print('upper 85 ',upp)\n",
        "array = bootstrap_mean_ci(datan,datan.shape[0],10000,80) \n",
        "low = array[1]\n",
        "upp =  array[2]\n",
        "print('lower 80', low)\n",
        "print('upper 80 ',upp)"
      ],
      "metadata": {
        "colab": {
          "base_uri": "https://localhost:8080/"
        },
        "id": "VARmZh7J2QBF",
        "outputId": "354001aa-5d0a-403c-c904-48458cf38ebe"
      },
      "execution_count": 137,
      "outputs": [
        {
          "output_type": "stream",
          "name": "stdout",
          "text": [
            "lower 85 29.49367088607595\n",
            "upper 85  31.481012658227847\n",
            "lower 80 29.60759493670886\n",
            "upper 80  31.367088607594937\n"
          ]
        }
      ]
    },
    {
      "cell_type": "code",
      "metadata": {
        "id": "MkxvDZG4HC0n"
      },
      "source": [
        "# Create your own function for a permutation test here (you will need it for the lab quiz!):\n",
        "def permut_test(sample1, sample2, n_permutations):\n",
        "    \"\"\"\n",
        "    sample1: 1D array\n",
        "    sample2: 1D array (note that the size of the two arrays can be different)\n",
        "    n_permutations: number of permutations to calculate the p-value\n",
        "    \"\"\"\n",
        "    count = 0\n",
        "    for i in range(n_permutations):\n",
        "        meandiffreal = np.mean(sample2) - np.mean(sample1) #new - current\n",
        "        sample = np.concatenate((sample1,sample2))\n",
        "        perm = np.random.permutation(sample)\n",
        "        pc = np.mean(perm[:len(sample1)])\n",
        "        pn = np.mean(perm[len(sample1):])\n",
        "        meandiffperm = pn-pc #new-current\n",
        "        #print('tperm ',meandiffperm)\n",
        "        #print('tobs ',meandiffreal)\n",
        "        if meandiffperm > meandiffreal: \n",
        "            count += 1     \n",
        "    pvalue = count/n_permutations\n",
        "    return pvalue"
      ],
      "execution_count": 138,
      "outputs": []
    },
    {
      "cell_type": "code",
      "source": [
        "print('Pvalue = ', permut_test(datac,datan,30000))"
      ],
      "metadata": {
        "colab": {
          "base_uri": "https://localhost:8080/"
        },
        "id": "RLTRvd5h21CE",
        "outputId": "87fccf37-d081-45d7-b100-98969159cccf"
      },
      "execution_count": 139,
      "outputs": [
        {
          "output_type": "stream",
          "name": "stdout",
          "text": [
            "Pvalue =  0.0\n"
          ]
        }
      ]
    },
    {
      "cell_type": "markdown",
      "source": [
        "## Voting Data\n"
      ],
      "metadata": {
        "id": "b7PBdZI9LXt4"
      }
    },
    {
      "cell_type": "code",
      "source": [
        "# Load the data\n",
        "dem_share_PA = [60.08, 40.64, 36.07, 41.21, 31.04, 43.78, 44.08, 46.85, 44.71, 46.15, 63.10, 52.20, 43.18, 40.24, 39.92, 47.87, 37.77, 40.11, 49.85, 48.61, 38.62, 54.25, 34.84, 47.75, 43.82, 55.97, 58.23, 42.97, 42.38, 36.11, 37.53, 42.65, 50.96, 47.43, 56.24, 45.60, 46.39, 35.22, 48.56, 32.97, 57.88, 36.05, 37.72, 50.36, 32.12, 41.55, 54.66, 57.81, 54.58, 32.88, 54.37, 40.45, 47.61, 60.49, 43.11, 27.32, 44.03, 33.56, 37.26, 54.64, 43.12, 25.34, 49.79, 83.56, 40.09, 60.81, 49.81]\n",
        "dem_share_OH = [56.94, 50.46, 65.99, 45.88, 42.23, 45.26, 57.01, 53.61, 59.10, 61.48, 43.43, 44.69, 54.59, 48.36, 45.89, 48.62, 43.92, 38.23, 28.79, 63.57, 38.07, 40.18, 43.05, 41.56, 42.49, 36.06, 52.76, 46.07, 39.43, 39.26, 47.47, 27.92, 38.01, 45.45, 29.07, 28.94, 51.28, 50.10, 39.84, 36.43, 35.71, 31.47, 47.01, 40.10, 48.76, 31.56, 39.86, 45.31, 35.47, 51.38, 46.33, 48.73, 41.77, 41.32, 48.46, 53.14, 34.01, 54.74, 40.67, 38.96, 46.29, 38.25, 6.80, 31.75, 46.33, 44.90, 33.57, 38.10, 39.67, 40.47, 49.44, 37.62, 36.71, 46.73, 42.20, 53.16, 52.40, 58.36, 68.02, 38.53, 34.58, 69.64, 60.50, 53.53, 36.54, 49.58, 41.97, 38.11]\n",
        "dfPA = pd.DataFrame({'dem_share_PA':dem_share_PA})\n",
        "dataPA = dfPA.values.T[0]\n",
        "dfOH = pd.DataFrame({'dem_share_OH':dem_share_OH})\n",
        "dataOH = dfOH.values.T[0]\n",
        "print(dfPA)\n",
        "print(dfOH)"
      ],
      "metadata": {
        "colab": {
          "base_uri": "https://localhost:8080/"
        },
        "id": "IyLbsNf5L1-k",
        "outputId": "903d1857-22d2-4c41-d3d9-603a07b283aa"
      },
      "execution_count": 140,
      "outputs": [
        {
          "output_type": "stream",
          "name": "stdout",
          "text": [
            "    dem_share_PA\n",
            "0          60.08\n",
            "1          40.64\n",
            "2          36.07\n",
            "3          41.21\n",
            "4          31.04\n",
            "..           ...\n",
            "62         49.79\n",
            "63         83.56\n",
            "64         40.09\n",
            "65         60.81\n",
            "66         49.81\n",
            "\n",
            "[67 rows x 1 columns]\n",
            "    dem_share_OH\n",
            "0          56.94\n",
            "1          50.46\n",
            "2          65.99\n",
            "3          45.88\n",
            "4          42.23\n",
            "..           ...\n",
            "83         53.53\n",
            "84         36.54\n",
            "85         49.58\n",
            "86         41.97\n",
            "87         38.11\n",
            "\n",
            "[88 rows x 1 columns]\n"
          ]
        }
      ]
    },
    {
      "cell_type": "code",
      "source": [
        "bootM_PA = bootstrap_mean_ci(dataPA,dataPA.shape[0],100000 ,98)\n",
        "meanPA = bootM_PA[0]\n",
        "lowPA = bootM_PA[1]\n",
        "uppPA = bootM_PA[2]\n",
        "print('Mean votes supporting democratic candidate in PA ', meanPA)\n",
        "print('Condifence intervals (',lowPA,',',uppPA,')')\n",
        "bootM_OH = bootstrap_mean_ci(dataOH,dataOH.shape[0],100000  ,98)\n",
        "mean_OH = bootM_OH[0]\n",
        "lowOH = bootM_OH[1]\n",
        "uppOH = bootM_OH[2]\n",
        "print('Mean votes supporting democratic candidate in OH ', mean_OH)\n",
        "print('Condifence intervals (',lowOH,',',uppOH,')')"
      ],
      "metadata": {
        "colab": {
          "base_uri": "https://localhost:8080/"
        },
        "id": "6qzHnmjyROoi",
        "outputId": "f2a77e79-168b-45b2-aaba-35c6416018e9"
      },
      "execution_count": 143,
      "outputs": [
        {
          "output_type": "stream",
          "name": "stdout",
          "text": [
            "Mean votes supporting democratic candidate in PA  45.4822289716418\n",
            "Condifence intervals ( 42.8065656716418 , 48.3432895522388 )\n",
            "Mean votes supporting democratic candidate in OH  44.32178404204534\n",
            "Condifence intervals ( 41.8605625 , 46.75068522727272 )\n"
          ]
        }
      ]
    },
    {
      "cell_type": "code",
      "source": [
        "print('Pvalue = ', permut_test(dataOH,dataPA,30000 ))"
      ],
      "metadata": {
        "colab": {
          "base_uri": "https://localhost:8080/"
        },
        "id": "z4QIg4rnTlmx",
        "outputId": "39c0b6a1-b00d-43f7-f358-7155c3ed27d9"
      },
      "execution_count": 142,
      "outputs": [
        {
          "output_type": "stream",
          "name": "stdout",
          "text": [
            "Pvalue =  0.23513333333333333\n"
          ]
        }
      ]
    }
  ]
}